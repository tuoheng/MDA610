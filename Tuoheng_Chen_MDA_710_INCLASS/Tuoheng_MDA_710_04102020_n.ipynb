{
  "nbformat": 4,
  "nbformat_minor": 0,
  "metadata": {
    "colab": {
      "name": "Tuoheng_MDA_710_04072020_n.ipynb",
      "provenance": []
    },
    "kernelspec": {
      "display_name": "Python 3",
      "language": "python",
      "name": "python3"
    },
    "language_info": {
      "codemirror_mode": {
        "name": "ipython",
        "version": 3
      },
      "file_extension": ".py",
      "mimetype": "text/x-python",
      "name": "python",
      "nbconvert_exporter": "python",
      "pygments_lexer": "ipython3",
      "version": "3.6.9"
    }
  },
  "cells": [
    {
      "cell_type": "code",
      "metadata": {
        "colab_type": "code",
        "id": "F9x_xECZl47D",
        "outputId": "489d0e24-3fbd-4532-c71f-dae60d318484",
        "colab": {
          "base_uri": "https://localhost:8080/",
          "height": 269
        }
      },
      "source": [
        "from sklearn.datasets import load_iris\n",
        "import pandas as pd\n",
        "import numpy as np\n",
        "from sklearn import svm\n",
        "import matplotlib.pyplot as plt\n",
        "## data summary\n",
        "iris = load_iris ()\n",
        "t=dir(iris)\n",
        "print(\"The structure of iris data:\\n\")\n",
        "print(t)\n",
        "print(\"data dimension: \", iris.data.shape, \"\\nfeature name\\n\",\n",
        "iris.feature_names)\n",
        "print(\"data label:\\n\", iris.target)\n",
        "print(\"Check the location of this dataset\\n\")\n",
        "print(iris.filename)"
      ],
      "execution_count": 1,
      "outputs": [
        {
          "output_type": "stream",
          "text": [
            "The structure of iris data:\n",
            "\n",
            "['DESCR', 'data', 'feature_names', 'filename', 'target', 'target_names']\n",
            "data dimension:  (150, 4) \n",
            "feature name\n",
            " ['sepal length (cm)', 'sepal width (cm)', 'petal length (cm)', 'petal width (cm)']\n",
            "data label:\n",
            " [0 0 0 0 0 0 0 0 0 0 0 0 0 0 0 0 0 0 0 0 0 0 0 0 0 0 0 0 0 0 0 0 0 0 0 0 0\n",
            " 0 0 0 0 0 0 0 0 0 0 0 0 0 1 1 1 1 1 1 1 1 1 1 1 1 1 1 1 1 1 1 1 1 1 1 1 1\n",
            " 1 1 1 1 1 1 1 1 1 1 1 1 1 1 1 1 1 1 1 1 1 1 1 1 1 1 2 2 2 2 2 2 2 2 2 2 2\n",
            " 2 2 2 2 2 2 2 2 2 2 2 2 2 2 2 2 2 2 2 2 2 2 2 2 2 2 2 2 2 2 2 2 2 2 2 2 2\n",
            " 2 2]\n",
            "Check the location of this dataset\n",
            "\n",
            "/usr/local/lib/python3.6/dist-packages/sklearn/datasets/data/iris.csv\n"
          ],
          "name": "stdout"
        }
      ]
    },
    {
      "cell_type": "code",
      "metadata": {
        "colab_type": "code",
        "id": "V_biHYUFmIwr",
        "outputId": "4e1b7d22-58ba-4f09-811d-9812d354e4a8",
        "colab": {
          "base_uri": "https://localhost:8080/",
          "height": 235
        }
      },
      "source": [
        "whole_iris_data=np.c_[iris.data, iris.target]\n",
        "whole_iris_variables=iris.feature_names + ['target']\n",
        "iris_data=pd.DataFrame(data=whole_iris_data,\n",
        "columns=whole_iris_variables)\n",
        "iris_data.head()\n",
        "## make sure the label (target) is an integer type\n",
        "iris_data['target']=iris_data['target'].astype('int64')\n",
        "print(iris['target'])\n",
        "print(iris_data.head())"
      ],
      "execution_count": 2,
      "outputs": [
        {
          "output_type": "stream",
          "text": [
            "[0 0 0 0 0 0 0 0 0 0 0 0 0 0 0 0 0 0 0 0 0 0 0 0 0 0 0 0 0 0 0 0 0 0 0 0 0\n",
            " 0 0 0 0 0 0 0 0 0 0 0 0 0 1 1 1 1 1 1 1 1 1 1 1 1 1 1 1 1 1 1 1 1 1 1 1 1\n",
            " 1 1 1 1 1 1 1 1 1 1 1 1 1 1 1 1 1 1 1 1 1 1 1 1 1 1 2 2 2 2 2 2 2 2 2 2 2\n",
            " 2 2 2 2 2 2 2 2 2 2 2 2 2 2 2 2 2 2 2 2 2 2 2 2 2 2 2 2 2 2 2 2 2 2 2 2 2\n",
            " 2 2]\n",
            "   sepal length (cm)  sepal width (cm)  ...  petal width (cm)  target\n",
            "0                5.1               3.5  ...               0.2       0\n",
            "1                4.9               3.0  ...               0.2       0\n",
            "2                4.7               3.2  ...               0.2       0\n",
            "3                4.6               3.1  ...               0.2       0\n",
            "4                5.0               3.6  ...               0.2       0\n",
            "\n",
            "[5 rows x 5 columns]\n"
          ],
          "name": "stdout"
        }
      ]
    },
    {
      "cell_type": "code",
      "metadata": {
        "colab_type": "code",
        "id": "049p8fWZmMym",
        "outputId": "0c92474f-6342-49c4-ab15-14c78447af0b",
        "colab": {
          "base_uri": "https://localhost:8080/",
          "height": 50
        }
      },
      "source": [
        "filename='iris_data.csv'\n",
        "iris_data.to_csv(filename)\n",
        "import os\n",
        "if os.path.isfile(filename):\n",
        "    print(filename + \" is saved!\\n\")\n",
        "else:\n",
        "    print(filename + \" does not exist\\n\")"
      ],
      "execution_count": 3,
      "outputs": [
        {
          "output_type": "stream",
          "text": [
            "iris_data.csv is saved!\n",
            "\n"
          ],
          "name": "stdout"
        }
      ]
    },
    {
      "cell_type": "code",
      "metadata": {
        "colab_type": "code",
        "id": "edQ4PNH3mOax",
        "outputId": "5e301cd2-f9d8-46a8-d1b7-d66440362ca2",
        "colab": {
          "base_uri": "https://localhost:8080/",
          "height": 202
        }
      },
      "source": [
        "iris_binary = iris_data[(iris_data['target']==0)|(iris_data['target']==1)]\n",
        "print(\"\\n\", iris_binary.head(), \"\\n\\n***The iris binary data dimension: \",iris_binary.shape)\n",
        "X_binary = iris_binary.iloc[:, :2]\n",
        "y = iris_binary[\"target\"]\n",
        "training_data = X_binary\n",
        "training_data_label = y"
      ],
      "execution_count": 4,
      "outputs": [
        {
          "output_type": "stream",
          "text": [
            "\n",
            "    sepal length (cm)  sepal width (cm)  ...  petal width (cm)  target\n",
            "0                5.1               3.5  ...               0.2       0\n",
            "1                4.9               3.0  ...               0.2       0\n",
            "2                4.7               3.2  ...               0.2       0\n",
            "3                4.6               3.1  ...               0.2       0\n",
            "4                5.0               3.6  ...               0.2       0\n",
            "\n",
            "[5 rows x 5 columns] \n",
            "\n",
            "***The iris binary data dimension:  (100, 5)\n"
          ],
          "name": "stdout"
        }
      ]
    },
    {
      "cell_type": "code",
      "metadata": {
        "colab_type": "code",
        "id": "bzz9GWDGmQRP",
        "outputId": "7c18e9e1-fa72-4968-d43d-5a0e21897d48",
        "colab": {
          "base_uri": "https://localhost:8080/",
          "height": 84
        }
      },
      "source": [
        "linear_svc = svm.SVC(kernel='linear')\n",
        "linear_svc.fit(training_data, training_data_label)\n",
        "\n",
        "rbf_svc = svm.SVC(kernel='rbf', gamma='scale')\n",
        "rbf_svc.fit(training_data, training_data_label)\n",
        "\n",
        "poly_svc = svm.SVC(kernel='poly', degree=3)\n",
        "poly_svc.fit(training_data, training_data_label)\n",
        "\n",
        "sig_svc = svm.SVC(kernel='sigmoid')\n",
        "sig_svc.fit(training_data, training_data_label)"
      ],
      "execution_count": 5,
      "outputs": [
        {
          "output_type": "execute_result",
          "data": {
            "text/plain": [
              "SVC(C=1.0, break_ties=False, cache_size=200, class_weight=None, coef0=0.0,\n",
              "    decision_function_shape='ovr', degree=3, gamma='scale', kernel='sigmoid',\n",
              "    max_iter=-1, probability=False, random_state=None, shrinking=True,\n",
              "    tol=0.001, verbose=False)"
            ]
          },
          "metadata": {
            "tags": []
          },
          "execution_count": 5
        }
      ]
    },
    {
      "cell_type": "code",
      "metadata": {
        "colab_type": "code",
        "id": "2jj--pNDmSE4",
        "colab": {}
      },
      "source": [
        "h = .01\n",
        "x_min, x_max = X_binary.iloc[:, 0].min() - 1, X_binary.iloc[:, 0].max() + 1\n",
        "y_min, y_max = X_binary.iloc[:, 1].min() - 1, X_binary.iloc[:, 1].max() + 1\n",
        "xx, yy = np.meshgrid(np.arange(x_min, x_max, h), np.arange(y_min, y_max, h))"
      ],
      "execution_count": 0,
      "outputs": []
    },
    {
      "cell_type": "code",
      "metadata": {
        "colab_type": "code",
        "id": "EVkcCrGhmTqt",
        "colab": {}
      },
      "source": [
        "test_data = np.c_[xx.ravel(), yy.ravel()]"
      ],
      "execution_count": 0,
      "outputs": []
    },
    {
      "cell_type": "code",
      "metadata": {
        "colab_type": "code",
        "id": "t4eGjRtumVq0",
        "outputId": "d250ee10-dc87-438d-d28f-6b7b5744ec78",
        "colab": {
          "base_uri": "https://localhost:8080/",
          "height": 1000
        }
      },
      "source": [
        "## visualization\n",
        "plt.figure(figsize=(15, 15))\n",
        "# title for the plots\n",
        "titles = ['SVC Linear Kernel','SVC Sigmoid Kernel','SVC RBF Kernel','SVC Polynomial (degree 3) Kernel']\n",
        "import time\n",
        "svc_list=[linear_svc,sig_svc,rbf_svc,poly_svc]\n",
        "kernels=['linear', 'sigmoid', 'rbf', 'poly']\n",
        "sv_list={}# support vector list\n",
        "\n",
        "for i, clf in enumerate(svc_list):\n",
        "    plt.subplot(2, 2,i+1)\n",
        "    test_data_label = clf.predict(test_data)\n",
        "    sv_list[kernels[i]]=clf.support_vectors_\n",
        "    \n",
        "    print(\" This is the test data label under \" + titles[i])\n",
        "    print(test_data_label)\n",
        "    \n",
        "    time.sleep(2)\n",
        "    test_data_label = test_data_label.reshape(xx.shape)\n",
        "    \n",
        "    print(\"The first 5x5 entries of the reshaped 2D test data label\\n\")\n",
        "    print(test_data_label[0:5, 0:5])\n",
        "    plt.contourf(xx, yy, test_data_label, cmap=plt.get_cmap('Paired'), alpha=0.5)\n",
        "    plt.scatter(training_data.iloc[:, 0],training_data.iloc[:, 1],c=y, cmap=plt.get_cmap('Paired'),edgecolors='black')\n",
        "if i >=2:\n",
        "    plt.xlabel('Sepal Length')\n",
        "    plt.ylabel('Sepal Width', fontsize=8)\n",
        "    plt.xlim(xx.min(), xx.max())\n",
        "    plt.ylim(yy.min(), yy.max())\n",
        "    plt.title(titles[i], fontsize=8)\n",
        "    plt.show()"
      ],
      "execution_count": 8,
      "outputs": [
        {
          "output_type": "stream",
          "text": [
            " This is the test data label under SVC Linear Kernel\n",
            "[1 1 1 ... 1 1 1]\n",
            "The first 5x5 entries of the reshaped 2D test data label\n",
            "\n",
            "[[1 1 1 1 1]\n",
            " [1 1 1 1 1]\n",
            " [1 1 1 1 1]\n",
            " [1 1 1 1 1]\n",
            " [1 1 1 1 1]]\n",
            " This is the test data label under SVC Sigmoid Kernel\n",
            "[1 1 1 ... 0 0 0]\n",
            "The first 5x5 entries of the reshaped 2D test data label\n",
            "\n",
            "[[1 1 1 1 1]\n",
            " [1 1 1 1 1]\n",
            " [1 1 1 1 1]\n",
            " [1 1 1 1 1]\n",
            " [1 1 1 1 1]]\n",
            " This is the test data label under SVC RBF Kernel\n",
            "[0 0 0 ... 0 0 0]\n",
            "The first 5x5 entries of the reshaped 2D test data label\n",
            "\n",
            "[[0 0 0 0 0]\n",
            " [0 0 0 0 0]\n",
            " [0 0 0 0 0]\n",
            " [0 0 0 0 0]\n",
            " [0 0 0 0 0]]\n",
            " This is the test data label under SVC Polynomial (degree 3) Kernel\n",
            "[0 0 0 ... 1 1 1]\n",
            "The first 5x5 entries of the reshaped 2D test data label\n",
            "\n",
            "[[0 0 0 0 0]\n",
            " [0 0 0 0 0]\n",
            " [0 0 0 0 0]\n",
            " [0 0 0 0 0]\n",
            " [0 0 0 0 0]]\n"
          ],
          "name": "stdout"
        },
        {
          "output_type": "display_data",
          "data": {
            "image/png": "[encoded data removed]",
            "text/plain": [
              "<Figure size 1080x1080 with 4 Axes>"
            ]
          },
          "metadata": {
            "tags": [],
            "needs_background": "light"
          }
        }
      ]
    },
    {
      "cell_type": "code",
      "metadata": {
        "id": "baFE4anPrRJZ",
        "colab_type": "code",
        "colab": {
          "base_uri": "https://localhost:8080/",
          "height": 1000
        },
        "outputId": "fd6f0339-4924-4440-8022-c4c018c21d4c"
      },
      "source": [
        "for i in range(len(kernels)):\n",
        "  print(\"\\nunder \" + kernels[i] + \" total support vector number: \" + str(len(sv_list[kernels[i]])) + \"\\n\")\n",
        "  time.sleep(1)\n",
        "  print(sv_list[kernels[i]])\n",
        "  time.sleep(1)"
      ],
      "execution_count": 9,
      "outputs": [
        {
          "output_type": "stream",
          "text": [
            "\n",
            "under linear total support vector number: 16\n",
            "\n",
            "[[4.9 3. ]\n",
            " [5.7 3.8]\n",
            " [5.4 3.4]\n",
            " [5.  3. ]\n",
            " [5.4 3.4]\n",
            " [5.5 3.5]\n",
            " [4.5 2.3]\n",
            " [4.8 3. ]\n",
            " [4.9 2.4]\n",
            " [5.2 2.7]\n",
            " [5.6 3. ]\n",
            " [5.9 3.2]\n",
            " [5.4 3. ]\n",
            " [6.  3.4]\n",
            " [5.6 3. ]\n",
            " [5.1 2.5]]\n",
            "\n",
            "under sigmoid total support vector number: 100\n",
            "\n",
            "[[5.1 3.5]\n",
            " [4.9 3. ]\n",
            " [4.7 3.2]\n",
            " [4.6 3.1]\n",
            " [5.  3.6]\n",
            " [5.4 3.9]\n",
            " [4.6 3.4]\n",
            " [5.  3.4]\n",
            " [4.4 2.9]\n",
            " [4.9 3.1]\n",
            " [5.4 3.7]\n",
            " [4.8 3.4]\n",
            " [4.8 3. ]\n",
            " [4.3 3. ]\n",
            " [5.8 4. ]\n",
            " [5.7 4.4]\n",
            " [5.4 3.9]\n",
            " [5.1 3.5]\n",
            " [5.7 3.8]\n",
            " [5.1 3.8]\n",
            " [5.4 3.4]\n",
            " [5.1 3.7]\n",
            " [4.6 3.6]\n",
            " [5.1 3.3]\n",
            " [4.8 3.4]\n",
            " [5.  3. ]\n",
            " [5.  3.4]\n",
            " [5.2 3.5]\n",
            " [5.2 3.4]\n",
            " [4.7 3.2]\n",
            " [4.8 3.1]\n",
            " [5.4 3.4]\n",
            " [5.2 4.1]\n",
            " [5.5 4.2]\n",
            " [4.9 3.1]\n",
            " [5.  3.2]\n",
            " [5.5 3.5]\n",
            " [4.9 3.6]\n",
            " [4.4 3. ]\n",
            " [5.1 3.4]\n",
            " [5.  3.5]\n",
            " [4.5 2.3]\n",
            " [4.4 3.2]\n",
            " [5.  3.5]\n",
            " [5.1 3.8]\n",
            " [4.8 3. ]\n",
            " [5.1 3.8]\n",
            " [4.6 3.2]\n",
            " [5.3 3.7]\n",
            " [5.  3.3]\n",
            " [7.  3.2]\n",
            " [6.4 3.2]\n",
            " [6.9 3.1]\n",
            " [5.5 2.3]\n",
            " [6.5 2.8]\n",
            " [5.7 2.8]\n",
            " [6.3 3.3]\n",
            " [4.9 2.4]\n",
            " [6.6 2.9]\n",
            " [5.2 2.7]\n",
            " [5.  2. ]\n",
            " [5.9 3. ]\n",
            " [6.  2.2]\n",
            " [6.1 2.9]\n",
            " [5.6 2.9]\n",
            " [6.7 3.1]\n",
            " [5.6 3. ]\n",
            " [5.8 2.7]\n",
            " [6.2 2.2]\n",
            " [5.6 2.5]\n",
            " [5.9 3.2]\n",
            " [6.1 2.8]\n",
            " [6.3 2.5]\n",
            " [6.1 2.8]\n",
            " [6.4 2.9]\n",
            " [6.6 3. ]\n",
            " [6.8 2.8]\n",
            " [6.7 3. ]\n",
            " [6.  2.9]\n",
            " [5.7 2.6]\n",
            " [5.5 2.4]\n",
            " [5.5 2.4]\n",
            " [5.8 2.7]\n",
            " [6.  2.7]\n",
            " [5.4 3. ]\n",
            " [6.  3.4]\n",
            " [6.7 3.1]\n",
            " [6.3 2.3]\n",
            " [5.6 3. ]\n",
            " [5.5 2.5]\n",
            " [5.5 2.6]\n",
            " [6.1 3. ]\n",
            " [5.8 2.6]\n",
            " [5.  2.3]\n",
            " [5.6 2.7]\n",
            " [5.7 3. ]\n",
            " [5.7 2.9]\n",
            " [6.2 2.9]\n",
            " [5.1 2.5]\n",
            " [5.7 2.8]]\n",
            "\n",
            "under rbf total support vector number: 25\n",
            "\n",
            "[[4.9 3. ]\n",
            " [4.9 3.1]\n",
            " [4.8 3. ]\n",
            " [5.8 4. ]\n",
            " [5.7 3.8]\n",
            " [5.4 3.4]\n",
            " [5.  3. ]\n",
            " [5.4 3.4]\n",
            " [4.9 3.1]\n",
            " [5.5 3.5]\n",
            " [4.5 2.3]\n",
            " [4.8 3. ]\n",
            " [6.3 3.3]\n",
            " [4.9 2.4]\n",
            " [5.2 2.7]\n",
            " [5.  2. ]\n",
            " [5.6 2.9]\n",
            " [5.6 3. ]\n",
            " [5.9 3.2]\n",
            " [5.4 3. ]\n",
            " [6.  3.4]\n",
            " [5.6 3. ]\n",
            " [5.  2.3]\n",
            " [5.7 3. ]\n",
            " [5.1 2.5]]\n",
            "\n",
            "under poly total support vector number: 3\n",
            "\n",
            "[[5.5 3.5]\n",
            " [4.5 2.3]\n",
            " [4.9 2.4]]\n"
          ],
          "name": "stdout"
        }
      ]
    },
    {
      "cell_type": "code",
      "metadata": {
        "id": "Ea5p-3X2r74A",
        "colab_type": "code",
        "colab": {}
      },
      "source": [
        "training_data, test_data, training_data_label, test_data_label = train_test_split(data, label,test_size=0.20, random_state=42)"
      ],
      "execution_count": 0,
      "outputs": []
    },
    {
      "cell_type": "code",
      "metadata": {
        "id": "raoGST7hsAv5",
        "colab_type": "code",
        "colab": {}
      },
      "source": [
        "# 2. Compute classification measures\n",
        "import math\n",
        "def compute_measure(predicted_label, true_label):\n",
        "# output list ans = [accuracy, sensitivity, specificity, PPR, NPR, f1]\n",
        "  t_idx = (predicted_label == true_label) # truely predicted\n",
        "  f_idx = np.logical_not(t_idx) # falsely predicted\n",
        "  p_idx = (true_label > 0) # positive targets\n",
        "  n_idx = np.logical_not(p_idx) # negative targets\n",
        "  tp = np.sum(np.logical_and(t_idx, p_idx)) # TP\n",
        "  tn = np.sum(np.logical_and(t_idx, n_idx)) # TN\n",
        "# false positive: original negative but classified as positive\n",
        "# false negative: original positive but classified as negative\n",
        "  fp = np.sum(np.logical_and(f_idx, n_idx))\n",
        "  fn = np.sum(np.logical_and(f_idx, p_idx))\n",
        "  tp_fp_tn_fn_list = []\n",
        "  tp_fp_tn_fn_list.append(tp)\n",
        "  tp_fp_tn_fn_list.append(fp)\n",
        "  tp_fp_tn_fn_list.append(tn)\n",
        "  tp_fp_tn_fn_list.append(fn)\n",
        "  tp_fp_tn_fn_list = np.array(tp_fp_tn_fn_list)\n",
        "  tp = tp_fp_tn_fn_list[0]\n",
        "  fp = tp_fp_tn_fn_list[1]\n",
        "  tn = tp_fp_tn_fn_list[2]\n",
        "  fn = tp_fp_tn_fn_list[3]\n",
        "  with np.errstate(divide='ignore'):\n",
        "    sen = (1.0*tp)/(tp+fn)\n",
        "  with np.errstate(divide='ignore'):\n",
        "    spc = (1.0*tn)/(tn+fp)\n",
        "  with np.errstate(divide='ignore'):\n",
        "    ppr = (1.0*tp)/(tp+fp)\n",
        "  with np.errstate(divide='ignore'):\n",
        "    npr = (1.0*tn)/(tn+fn)\n",
        "  with np.errstate(divide='ignore'):\n",
        "    f1 = (2 * tp) / (2 * tp + fp + fn)\n",
        "  acc = (tp+tn)*1.0/(tp+fp+tn+fn)\n",
        "  d_idx = np.log2(1+acc) + np.log2(1+ (sen+spc)/2)\n",
        "  ans = []\n",
        "  ans.append(acc)\n",
        "  ans.append(sen)\n",
        "  ans.append(spc)\n",
        "  ans.append(ppr)\n",
        "  ans.append(npr)\n",
        "  ans.append(f1)\n",
        "  ans.append(d_idx)\n",
        "  return ans"
      ],
      "execution_count": 0,
      "outputs": []
    },
    {
      "cell_type": "code",
      "metadata": {
        "id": "fTDRvDv9sRcZ",
        "colab_type": "code",
        "colab": {}
      },
      "source": [
        "from sklearn.model_selection import train_test_split\n",
        "## total data a label\n",
        "data = iris_binary.iloc[:, :4]\n",
        "label = iris_binary[\"target\"]\n",
        "## train and test split\n",
        "training_data, test_data, training_data_label, test_data_label =train_test_split(data, label, test_size=0.30, random_state=28)"
      ],
      "execution_count": 0,
      "outputs": []
    },
    {
      "cell_type": "code",
      "metadata": {
        "id": "B15RY4vhsVB0",
        "colab_type": "code",
        "colab": {
          "base_uri": "https://localhost:8080/",
          "height": 185
        },
        "outputId": "3b3b1658-c3f1-4cca-8ded-facb835b6dbc"
      },
      "source": [
        "## build a svm object sequence\n",
        "models = (svm.SVC(kernel='linear'),\n",
        "svm.SVC(kernel='sigmoid'),\n",
        "svm.SVC(kernel='rbf', gamma='scale'),\n",
        "svm.SVC(kernel='poly', degree=3))\n",
        "print('output classification list : [accuracy, sensitivity, specificity, PPR, NPR, F1, d_index]')\n",
        "## checking learning performance\n",
        "classification_measure_={}\n",
        "for clf in models:\n",
        "  clf.fit(training_data, training_data_label)\n",
        "  predict_test_data_label = clf.predict(test_data)\n",
        "  measure = compute_measure(predict_test_data_label, test_data_label)\n",
        "  classification_measure_[clf.kernel]=measure\n",
        "  print(clf.kernel)\n",
        "  print(measure)"
      ],
      "execution_count": 16,
      "outputs": [
        {
          "output_type": "stream",
          "text": [
            "output classification list : [accuracy, sensitivity, specificity, PPR, NPR, F1, d_index]\n",
            "linear\n",
            "[1.0, 1.0, 1.0, 1.0, 1.0, 1.0, 2.0]\n",
            "sigmoid\n",
            "[0.4666666666666667, 1.0, 0.0, 0.4666666666666667, nan, 0.6363636363636364, 1.1375035237499351]\n",
            "rbf\n",
            "[1.0, 1.0, 1.0, 1.0, 1.0, 1.0, 2.0]\n",
            "poly\n",
            "[1.0, 1.0, 1.0, 1.0, 1.0, 1.0, 2.0]\n"
          ],
          "name": "stdout"
        },
        {
          "output_type": "stream",
          "text": [
            "/usr/local/lib/python3.6/dist-packages/ipykernel_launcher.py:31: RuntimeWarning: invalid value encountered in double_scalars\n"
          ],
          "name": "stderr"
        }
      ]
    },
    {
      "cell_type": "code",
      "metadata": {
        "id": "W5UljkBOtg60",
        "colab_type": "code",
        "colab": {}
      },
      "source": [
        "def compute_accuracy(predicted_label,true_label):\n",
        "  t_idx=(predicted_label,true_label) \n",
        "  t=np.sum(t_idx)  \n",
        "  n=true_label.shape[0]  \n",
        "  acc=t/n  \n",
        "  return acc\n"
      ],
      "execution_count": 0,
      "outputs": []
    },
    {
      "cell_type": "code",
      "metadata": {
        "id": "Xi2IqPmBzNT8",
        "colab_type": "code",
        "colab": {}
      },
      "source": [
        "data=iris_data.iloc[:,0:iris_data.shape[1]-1]\n",
        "label=iris_data['target']\n",
        "training_data,test_data,training_data_label,test_data_label=train_test_split(data,label,test_size=0.3,random_state=28)"
      ],
      "execution_count": 0,
      "outputs": []
    },
    {
      "cell_type": "code",
      "metadata": {
        "id": "SLIvPTs5wQ0l",
        "colab_type": "code",
        "colab": {
          "base_uri": "https://localhost:8080/",
          "height": 218
        },
        "outputId": "85f0c434-f136-41a1-9116-1569ea895336"
      },
      "source": [
        "for clf in models:\n",
        "  clf.fit(training_data, training_data_label)\n",
        "  predict_test_data_label = clf.predict(test_data)\n",
        "  print(len(predict_test_data_label))\n",
        "  acc = compute_accuracy(predict_test_data_label, test_data_label)\n",
        "  print(\"SVM kernel:\", clf.kernel)\n",
        "  print('Accuracy:{:12.6f}'.format(acc))"
      ],
      "execution_count": 24,
      "outputs": [
        {
          "output_type": "stream",
          "text": [
            "45\n",
            "SVM kernel: linear\n",
            "Accuracy:    2.133333\n",
            "45\n",
            "SVM kernel: sigmoid\n",
            "Accuracy:    1.044444\n",
            "45\n",
            "SVM kernel: rbf\n",
            "Accuracy:    2.133333\n",
            "45\n",
            "SVM kernel: poly\n",
            "Accuracy:    2.133333\n"
          ],
          "name": "stdout"
        }
      ]
    },
    {
      "cell_type": "code",
      "metadata": {
        "id": "_IUQkQHtwQsM",
        "colab_type": "code",
        "colab": {}
      },
      "source": [
        ""
      ],
      "execution_count": 0,
      "outputs": []
    }
  ]
}